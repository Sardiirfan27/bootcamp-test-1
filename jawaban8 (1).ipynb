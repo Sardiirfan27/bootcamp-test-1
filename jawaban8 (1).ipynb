{
  "nbformat": 4,
  "nbformat_minor": 0,
  "metadata": {
    "colab": {
      "name": "jawaban8.ipynb",
      "provenance": [],
      "collapsed_sections": []
    },
    "kernelspec": {
      "display_name": "Python 3",
      "name": "python3"
    }
  },
  "cells": [
    {
      "cell_type": "code",
      "metadata": {
        "colab": {
          "base_uri": "https://localhost:8080/"
        },
        "id": "9iVSMKnBaW9o",
        "outputId": "3231c3fb-60dc-4b16-f45c-12f929fb4267"
      },
      "source": [
        "pip install psycopg2-binary"
      ],
      "execution_count": null,
      "outputs": [
        {
          "output_type": "stream",
          "text": [
            "Collecting psycopg2-binary\n",
            "\u001b[?25l  Downloading https://files.pythonhosted.org/packages/f2/1b/720b36697158113ca1b2221a8e96a470088ccf3770d182214689d1a96a07/psycopg2_binary-2.8.6-cp36-cp36m-manylinux1_x86_64.whl (3.0MB)\n",
            "\u001b[K     |████████████████████████████████| 3.0MB 5.5MB/s \n",
            "\u001b[?25hInstalling collected packages: psycopg2-binary\n",
            "Successfully installed psycopg2-binary-2.8.6\n"
          ],
          "name": "stdout"
        }
      ]
    },
    {
      "cell_type": "code",
      "metadata": {
        "id": "WA7Skas2Z-T-",
        "colab": {
          "base_uri": "https://localhost:8080/"
        },
        "outputId": "cdecedf7-bcb8-4b4b-afc6-090deab0e4a6"
      },
      "source": [
        "#import library \r\n",
        "import psycopg2\r\n",
        "import pandas as pd\r\n",
        "import numpy as np\r\n",
        "import sys"
      ],
      "execution_count": 1,
      "outputs": [
        {
          "output_type": "stream",
          "text": [
            "/usr/local/lib/python3.6/dist-packages/psycopg2/__init__.py:144: UserWarning: The psycopg2 wheel package will be renamed from release 2.8; in order to keep installing from binary please use \"pip install psycopg2-binary\" instead. For details see: <http://initd.org/psycopg/docs/install.html#binary-install-from-pypi>.\n",
            "  \"\"\")\n"
          ],
          "name": "stderr"
        }
      ]
    },
    {
      "cell_type": "code",
      "metadata": {
        "id": "Kiprfc64aWBB"
      },
      "source": [
        "#hubungkan ke host\r\n",
        "connection_info = {\r\n",
        "    \"host\"      : \"206.189.80.195\",\r\n",
        "    \"database\"  : \"bootcamp\",\r\n",
        "    \"user\"      : \"bootcamp\",\r\n",
        "    \"password\"  : \"Bootcamp*123\"\r\n",
        "}\r\n",
        "conn = None\r\n"
      ],
      "execution_count": 2,
      "outputs": []
    },
    {
      "cell_type": "code",
      "metadata": {
        "colab": {
          "base_uri": "https://localhost:8080/"
        },
        "id": "qdkLQv87aifX",
        "outputId": "a47c8b1a-871a-4135-c504-801f611f3395"
      },
      "source": [
        "try:\r\n",
        "    print('Connecting to the PostgreSQL database...')\r\n",
        "    conn = psycopg2.connect(**connection_info)\r\n",
        "\r\n",
        "    cursor = conn.cursor()\r\n",
        "    sql_jawab3 = 'SELECT region, COUNT(DISTINCT \"country\") AS TotalCountry FROM \"bootcamp_test_sardi\" GROUP BY \"region\"'\r\n",
        "    cursor.execute(sql_jawab3)\r\n",
        "    data_jawab3 = cursor.fetchall()\r\n",
        "    cursor.close()\r\n",
        "    df_jawab3 = pd.DataFrame(data_jawab3, columns=['region','totalCountry'])\r\n",
        "    print(\"jawaban nomer 3\\n\") #untuk tambah spasi antar print\r\n",
        "    print(df_jawab3,\"\\n\")\r\n",
        "\r\n",
        "    cursor = conn.cursor()\r\n",
        "    sql_jawab4 = \"\"\"\r\n",
        "    SELECT \"country\", \"year\",max(\"avgtemperature\") AS Maxtemp, min(\"avgtemperature\") AS Mintemp \r\n",
        "    FROM \"public\".\"bootcamp_test_sardi\" \r\n",
        "    WHERE \"country\" IN ('Canada', 'Malaysia','Turkey') AND \"year\" IN ('2018') \r\n",
        "    GROUP BY \"country\", \"year\"\r\n",
        "    \"\"\"\r\n",
        "    cursor.execute(sql_jawab4)\r\n",
        "    data_jawab4 = cursor.fetchall()\r\n",
        "    cursor.close()\r\n",
        "    df_jawab4 = pd.DataFrame(data_jawab4, columns=['country','year','maxtemp','mintemp'])\r\n",
        "    print(\"jawaban nomer 4\\n\")\r\n",
        "    print(df_jawab4,\"\\n\")\r\n",
        "\r\n",
        "    \r\n",
        "    cursor = conn.cursor()\r\n",
        "    sql_jawab5 = \"\"\"\r\n",
        "    select \"region\" ,\"country\" , \"avgtemperature\" \r\n",
        "\t  from (\r\n",
        "\t\tselect \"region\", \"country\", \"avgtemperature\", \"day\", \"month\" , \"year\" , rank()\r\n",
        "\t\t\tover (partition by \"region\" order by \"avgtemperature\" desc) as rn \r\n",
        "\t\t\tfrom bootcamp_test_sardi where \"day\" = 1 and \"month\" = 10 and \"year\" = 2012\r\n",
        "\t  ) as t2 where rn <=5\r\n",
        "    \"\"\"\r\n",
        "    cursor.execute(sql_jawab5)\r\n",
        "    data_jawab5 = cursor.fetchall()\r\n",
        "    cursor.close()\r\n",
        "    df_jawab5 = pd.DataFrame(data_jawab4, columns=['country','year','maxtemp','mintemp'])\r\n",
        "    print(\"jawaban nomer 5\\n\")\r\n",
        "    print(df_jawab5)\r\n",
        "    \r\n",
        "except (Exception, psycopg2.DatabaseError) as error:\r\n",
        "    print(error)\r\n",
        "    sys.exit(1) \r\n",
        "print(\"Connection successful\")"
      ],
      "execution_count": 28,
      "outputs": [
        {
          "output_type": "stream",
          "text": [
            "Connecting to the PostgreSQL database...\n",
            "jawaban nomer 3\n",
            "\n",
            "                              region  totalCountry\n",
            "0                             Africa            28\n",
            "1                               Asia            25\n",
            "2            Australia/South Pacific             2\n",
            "3                             Europe            34\n",
            "4                        Middle East            11\n",
            "5                      North America             3\n",
            "6  South/Central America & Carribean            22 \n",
            "\n",
            "jawaban nomer 4\n",
            "\n",
            "    country  year maxtemp mintemp\n",
            "0    Canada  2018    81.4     -99\n",
            "1  Malaysia  2018    87.7     -99\n",
            "2    Turkey  2018    84.1     -99 \n",
            "\n",
            "jawaban nomer 5\n",
            "\n",
            "    country  year maxtemp mintemp\n",
            "0    Canada  2018    81.4     -99\n",
            "1  Malaysia  2018    87.7     -99\n",
            "2    Turkey  2018    84.1     -99\n",
            "Connection successful\n"
          ],
          "name": "stdout"
        }
      ]
    }
  ]
}