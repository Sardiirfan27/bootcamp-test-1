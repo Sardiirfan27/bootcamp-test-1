{
  "nbformat": 4,
  "nbformat_minor": 0,
  "metadata": {
    "colab": {
      "name": "tugas2.ipynb",
      "provenance": [],
      "collapsed_sections": []
    },
    "kernelspec": {
      "name": "python3",
      "display_name": "Python 3"
    }
  },
  "cells": [
    {
      "cell_type": "markdown",
      "metadata": {
        "id": "2Xjvm0vPBgca"
      },
      "source": [
        "Upload dulu file city_temperature.csv ke google colab"
      ]
    },
    {
      "cell_type": "code",
      "metadata": {
        "colab": {
          "base_uri": "https://localhost:8080/"
        },
        "id": "GcWA7ROZ_mbC",
        "outputId": "ef8123ab-fb97-4fb9-b55c-40b2a97ee4da"
      },
      "source": [
        "import psycopg2\r\n",
        "connection_info = {\r\n",
        "    \"host\"      : \"206.189.80.195\",\r\n",
        "    \"database\"  : \"bootcamp\",\r\n",
        "    \"user\": \"bootcamp\",\r\n",
        "    \"password\"  : \"Bootcamp*123\"\r\n",
        "}\r\n",
        "conn = psycopg2.connect(**connection_info)\r\n",
        "cur = conn.cursor()\r\n",
        "with open('city_temperature.csv', 'r') as f:\r\n",
        "    # Notice that we don't need the `csv` module.\r\n",
        "    next(f) # Skip the header row.\r\n",
        "    cur.copy_from(f, 'public.bootcamp_test_sardi', sep=',')\r\n",
        "conn.commit()"
      ],
      "execution_count": 4,
      "outputs": [
        {
          "output_type": "stream",
          "text": [
            "/usr/local/lib/python3.6/dist-packages/psycopg2/__init__.py:144: UserWarning: The psycopg2 wheel package will be renamed from release 2.8; in order to keep installing from binary please use \"pip install psycopg2-binary\" instead. For details see: <http://initd.org/psycopg/docs/install.html#binary-install-from-pypi>.\n",
            "  \"\"\")\n"
          ],
          "name": "stderr"
        }
      ]
    }
  ]
}